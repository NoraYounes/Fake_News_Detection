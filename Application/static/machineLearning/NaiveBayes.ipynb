{
 "cells": [
  {
   "cell_type": "code",
   "execution_count": 1,
   "metadata": {},
   "outputs": [],
   "source": [
    "# Import dependencies \n",
    "import pandas as pd\n",
    "from sklearn.feature_extraction.text import CountVectorizer\n",
    "from sklearn.model_selection import train_test_split\n",
    "from sklearn.naive_bayes import MultinomialNB\n",
    "import pickle"
   ]
  },
  {
   "cell_type": "code",
   "execution_count": 2,
   "metadata": {},
   "outputs": [
    {
     "data": {
      "text/html": [
       "<div>\n",
       "<style scoped>\n",
       "    .dataframe tbody tr th:only-of-type {\n",
       "        vertical-align: middle;\n",
       "    }\n",
       "\n",
       "    .dataframe tbody tr th {\n",
       "        vertical-align: top;\n",
       "    }\n",
       "\n",
       "    .dataframe thead th {\n",
       "        text-align: right;\n",
       "    }\n",
       "</style>\n",
       "<table border=\"1\" class=\"dataframe\">\n",
       "  <thead>\n",
       "    <tr style=\"text-align: right;\">\n",
       "      <th></th>\n",
       "      <th>Unnamed: 0</th>\n",
       "      <th>articlesid</th>\n",
       "      <th>fakeid</th>\n",
       "      <th>trueid</th>\n",
       "      <th>title</th>\n",
       "      <th>text</th>\n",
       "      <th>subject</th>\n",
       "      <th>label</th>\n",
       "    </tr>\n",
       "  </thead>\n",
       "  <tbody>\n",
       "    <tr>\n",
       "      <th>0</th>\n",
       "      <td>0</td>\n",
       "      <td>1</td>\n",
       "      <td>1.0</td>\n",
       "      <td>NaN</td>\n",
       "      <td>Donald Trump Sends Out Embarrassing New Year’...</td>\n",
       "      <td>Donald Trump just couldn t wish all Americans ...</td>\n",
       "      <td>US News</td>\n",
       "      <td>1</td>\n",
       "    </tr>\n",
       "    <tr>\n",
       "      <th>1</th>\n",
       "      <td>1</td>\n",
       "      <td>2</td>\n",
       "      <td>2.0</td>\n",
       "      <td>NaN</td>\n",
       "      <td>Drunk Bragging Trump Staffer Started Russian ...</td>\n",
       "      <td>House Intelligence Committee Chairman Devin Nu...</td>\n",
       "      <td>US News</td>\n",
       "      <td>1</td>\n",
       "    </tr>\n",
       "    <tr>\n",
       "      <th>2</th>\n",
       "      <td>2</td>\n",
       "      <td>3</td>\n",
       "      <td>3.0</td>\n",
       "      <td>NaN</td>\n",
       "      <td>Sheriff David Clarke Becomes An Internet Joke...</td>\n",
       "      <td>On Friday, it was revealed that former Milwauk...</td>\n",
       "      <td>US News</td>\n",
       "      <td>1</td>\n",
       "    </tr>\n",
       "    <tr>\n",
       "      <th>3</th>\n",
       "      <td>3</td>\n",
       "      <td>4</td>\n",
       "      <td>4.0</td>\n",
       "      <td>NaN</td>\n",
       "      <td>Trump Is So Obsessed He Even Has Obama’s Name...</td>\n",
       "      <td>On Christmas day, Donald Trump announced that ...</td>\n",
       "      <td>US News</td>\n",
       "      <td>1</td>\n",
       "    </tr>\n",
       "    <tr>\n",
       "      <th>4</th>\n",
       "      <td>4</td>\n",
       "      <td>5</td>\n",
       "      <td>5.0</td>\n",
       "      <td>NaN</td>\n",
       "      <td>Pope Francis Just Called Out Donald Trump Dur...</td>\n",
       "      <td>Pope Francis used his annual Christmas Day mes...</td>\n",
       "      <td>US News</td>\n",
       "      <td>1</td>\n",
       "    </tr>\n",
       "  </tbody>\n",
       "</table>\n",
       "</div>"
      ],
      "text/plain": [
       "   Unnamed: 0  articlesid  fakeid  trueid  \\\n",
       "0           0           1     1.0     NaN   \n",
       "1           1           2     2.0     NaN   \n",
       "2           2           3     3.0     NaN   \n",
       "3           3           4     4.0     NaN   \n",
       "4           4           5     5.0     NaN   \n",
       "\n",
       "                                               title  \\\n",
       "0   Donald Trump Sends Out Embarrassing New Year’...   \n",
       "1   Drunk Bragging Trump Staffer Started Russian ...   \n",
       "2   Sheriff David Clarke Becomes An Internet Joke...   \n",
       "3   Trump Is So Obsessed He Even Has Obama’s Name...   \n",
       "4   Pope Francis Just Called Out Donald Trump Dur...   \n",
       "\n",
       "                                                text  subject  label  \n",
       "0  Donald Trump just couldn t wish all Americans ...  US News      1  \n",
       "1  House Intelligence Committee Chairman Devin Nu...  US News      1  \n",
       "2  On Friday, it was revealed that former Milwauk...  US News      1  \n",
       "3  On Christmas day, Donald Trump announced that ...  US News      1  \n",
       "4  Pope Francis used his annual Christmas Day mes...  US News      1  "
      ]
     },
     "execution_count": 2,
     "metadata": {},
     "output_type": "execute_result"
    }
   ],
   "source": [
    "# Read CSV\n",
    "df = pd.read_csv('../../../Data/articles.csv')\n",
    "df.head(5)"
   ]
  },
  {
   "cell_type": "code",
   "execution_count": 3,
   "metadata": {},
   "outputs": [
    {
     "data": {
      "text/html": [
       "<div>\n",
       "<style scoped>\n",
       "    .dataframe tbody tr th:only-of-type {\n",
       "        vertical-align: middle;\n",
       "    }\n",
       "\n",
       "    .dataframe tbody tr th {\n",
       "        vertical-align: top;\n",
       "    }\n",
       "\n",
       "    .dataframe thead th {\n",
       "        text-align: right;\n",
       "    }\n",
       "</style>\n",
       "<table border=\"1\" class=\"dataframe\">\n",
       "  <thead>\n",
       "    <tr style=\"text-align: right;\">\n",
       "      <th></th>\n",
       "      <th>title</th>\n",
       "      <th>text</th>\n",
       "      <th>label</th>\n",
       "    </tr>\n",
       "  </thead>\n",
       "  <tbody>\n",
       "    <tr>\n",
       "      <th>0</th>\n",
       "      <td>Donald Trump Sends Out Embarrassing New Year’...</td>\n",
       "      <td>Donald Trump just couldn t wish all Americans ...</td>\n",
       "      <td>1</td>\n",
       "    </tr>\n",
       "    <tr>\n",
       "      <th>1</th>\n",
       "      <td>Drunk Bragging Trump Staffer Started Russian ...</td>\n",
       "      <td>House Intelligence Committee Chairman Devin Nu...</td>\n",
       "      <td>1</td>\n",
       "    </tr>\n",
       "    <tr>\n",
       "      <th>2</th>\n",
       "      <td>Sheriff David Clarke Becomes An Internet Joke...</td>\n",
       "      <td>On Friday, it was revealed that former Milwauk...</td>\n",
       "      <td>1</td>\n",
       "    </tr>\n",
       "    <tr>\n",
       "      <th>3</th>\n",
       "      <td>Trump Is So Obsessed He Even Has Obama’s Name...</td>\n",
       "      <td>On Christmas day, Donald Trump announced that ...</td>\n",
       "      <td>1</td>\n",
       "    </tr>\n",
       "    <tr>\n",
       "      <th>4</th>\n",
       "      <td>Pope Francis Just Called Out Donald Trump Dur...</td>\n",
       "      <td>Pope Francis used his annual Christmas Day mes...</td>\n",
       "      <td>1</td>\n",
       "    </tr>\n",
       "    <tr>\n",
       "      <th>...</th>\n",
       "      <td>...</td>\n",
       "      <td>...</td>\n",
       "      <td>...</td>\n",
       "    </tr>\n",
       "    <tr>\n",
       "      <th>37646</th>\n",
       "      <td>'Fully committed' NATO backs new U.S. approach...</td>\n",
       "      <td>BRUSSELS (Reuters) - NATO allies on Tuesday we...</td>\n",
       "      <td>0</td>\n",
       "    </tr>\n",
       "    <tr>\n",
       "      <th>37647</th>\n",
       "      <td>LexisNexis withdrew two products from Chinese ...</td>\n",
       "      <td>LONDON (Reuters) - LexisNexis, a provider of l...</td>\n",
       "      <td>0</td>\n",
       "    </tr>\n",
       "    <tr>\n",
       "      <th>37648</th>\n",
       "      <td>Minsk cultural hub becomes haven from authorities</td>\n",
       "      <td>MINSK (Reuters) - In the shadow of disused Sov...</td>\n",
       "      <td>0</td>\n",
       "    </tr>\n",
       "    <tr>\n",
       "      <th>37649</th>\n",
       "      <td>Vatican upbeat on possibility of Pope Francis ...</td>\n",
       "      <td>MOSCOW (Reuters) - Vatican Secretary of State ...</td>\n",
       "      <td>0</td>\n",
       "    </tr>\n",
       "    <tr>\n",
       "      <th>37650</th>\n",
       "      <td>Indonesia to buy $1.14 billion worth of Russia...</td>\n",
       "      <td>JAKARTA (Reuters) - Indonesia will buy 11 Sukh...</td>\n",
       "      <td>0</td>\n",
       "    </tr>\n",
       "  </tbody>\n",
       "</table>\n",
       "<p>37651 rows × 3 columns</p>\n",
       "</div>"
      ],
      "text/plain": [
       "                                                   title  \\\n",
       "0       Donald Trump Sends Out Embarrassing New Year’...   \n",
       "1       Drunk Bragging Trump Staffer Started Russian ...   \n",
       "2       Sheriff David Clarke Becomes An Internet Joke...   \n",
       "3       Trump Is So Obsessed He Even Has Obama’s Name...   \n",
       "4       Pope Francis Just Called Out Donald Trump Dur...   \n",
       "...                                                  ...   \n",
       "37646  'Fully committed' NATO backs new U.S. approach...   \n",
       "37647  LexisNexis withdrew two products from Chinese ...   \n",
       "37648  Minsk cultural hub becomes haven from authorities   \n",
       "37649  Vatican upbeat on possibility of Pope Francis ...   \n",
       "37650  Indonesia to buy $1.14 billion worth of Russia...   \n",
       "\n",
       "                                                    text  label  \n",
       "0      Donald Trump just couldn t wish all Americans ...      1  \n",
       "1      House Intelligence Committee Chairman Devin Nu...      1  \n",
       "2      On Friday, it was revealed that former Milwauk...      1  \n",
       "3      On Christmas day, Donald Trump announced that ...      1  \n",
       "4      Pope Francis used his annual Christmas Day mes...      1  \n",
       "...                                                  ...    ...  \n",
       "37646  BRUSSELS (Reuters) - NATO allies on Tuesday we...      0  \n",
       "37647  LONDON (Reuters) - LexisNexis, a provider of l...      0  \n",
       "37648  MINSK (Reuters) - In the shadow of disused Sov...      0  \n",
       "37649  MOSCOW (Reuters) - Vatican Secretary of State ...      0  \n",
       "37650  JAKARTA (Reuters) - Indonesia will buy 11 Sukh...      0  \n",
       "\n",
       "[37651 rows x 3 columns]"
      ]
     },
     "execution_count": 3,
     "metadata": {},
     "output_type": "execute_result"
    }
   ],
   "source": [
    "# Drop unused columns in model testing\n",
    "df = df[['title','text','label']]\n",
    "df"
   ]
  },
  {
   "cell_type": "code",
   "execution_count": 30,
   "metadata": {},
   "outputs": [],
   "source": [
    "# Defining the feature set X and y; model test on TEXT\n",
    "X = df.text\n",
    "y = df.label\n",
    "\n",
    "# Split data into training and testing sets \n",
    "X_train, X_test, y_train, y_test = train_test_split(X, y, random_state=78, test_size=0.20)"
   ]
  },
  {
   "cell_type": "code",
   "execution_count": 31,
   "metadata": {},
   "outputs": [],
   "source": [
    "# Implement CountVectorizer which tokenizes and counts occurance of words in text\n",
    "cv = CountVectorizer()\n",
    "X_train_count = cv.fit_transform(X_train.values)\n",
    "X_test_count = cv.transform(X_test)"
   ]
  },
  {
   "cell_type": "code",
   "execution_count": 35,
   "metadata": {},
   "outputs": [],
   "source": [
    "# Usng Multinomial algorithm of Naive Bayes for model training\n",
    "model = MultinomialNB()\n",
    "model.fit(X_train_count,y_train)\n",
    "y_pred = model.predict(X_test_count)"
   ]
  },
  {
   "cell_type": "code",
   "execution_count": 36,
   "metadata": {},
   "outputs": [
    {
     "ename": "ValueError",
     "evalue": "Expected 2D array, got 1D array instead:\narray=[0 1 1 ... 1 1 1].\nReshape your data either using array.reshape(-1, 1) if your data has a single feature or array.reshape(1, -1) if it contains a single sample.",
     "output_type": "error",
     "traceback": [
      "\u001b[0;31m---------------------------------------------------------------------------\u001b[0m",
      "\u001b[0;31mValueError\u001b[0m                                Traceback (most recent call last)",
      "\u001b[0;32m<ipython-input-36-ec9c9ae50e6a>\u001b[0m in \u001b[0;36m<module>\u001b[0;34m\u001b[0m\n\u001b[1;32m      1\u001b[0m \u001b[0;31m# Finding the accuracy of the Multinomial Navie Bayes model\u001b[0m\u001b[0;34m\u001b[0m\u001b[0;34m\u001b[0m\u001b[0;34m\u001b[0m\u001b[0m\n\u001b[1;32m      2\u001b[0m \u001b[0;31m# MultinomialNB is suitable for classificaion with discrete features\u001b[0m\u001b[0;34m\u001b[0m\u001b[0;34m\u001b[0m\u001b[0;34m\u001b[0m\u001b[0m\n\u001b[0;32m----> 3\u001b[0;31m \u001b[0mmodel\u001b[0m\u001b[0;34m.\u001b[0m\u001b[0mscore\u001b[0m\u001b[0;34m(\u001b[0m\u001b[0my_pred\u001b[0m\u001b[0;34m,\u001b[0m\u001b[0my_test\u001b[0m\u001b[0;34m)\u001b[0m\u001b[0;34m\u001b[0m\u001b[0;34m\u001b[0m\u001b[0m\n\u001b[0m",
      "\u001b[0;32m/opt/anaconda3/envs/mlenv/lib/python3.8/site-packages/sklearn/base.py\u001b[0m in \u001b[0;36mscore\u001b[0;34m(self, X, y, sample_weight)\u001b[0m\n\u001b[1;32m    498\u001b[0m         \"\"\"\n\u001b[1;32m    499\u001b[0m         \u001b[0;32mfrom\u001b[0m \u001b[0;34m.\u001b[0m\u001b[0mmetrics\u001b[0m \u001b[0;32mimport\u001b[0m \u001b[0maccuracy_score\u001b[0m\u001b[0;34m\u001b[0m\u001b[0;34m\u001b[0m\u001b[0m\n\u001b[0;32m--> 500\u001b[0;31m         \u001b[0;32mreturn\u001b[0m \u001b[0maccuracy_score\u001b[0m\u001b[0;34m(\u001b[0m\u001b[0my\u001b[0m\u001b[0;34m,\u001b[0m \u001b[0mself\u001b[0m\u001b[0;34m.\u001b[0m\u001b[0mpredict\u001b[0m\u001b[0;34m(\u001b[0m\u001b[0mX\u001b[0m\u001b[0;34m)\u001b[0m\u001b[0;34m,\u001b[0m \u001b[0msample_weight\u001b[0m\u001b[0;34m=\u001b[0m\u001b[0msample_weight\u001b[0m\u001b[0;34m)\u001b[0m\u001b[0;34m\u001b[0m\u001b[0;34m\u001b[0m\u001b[0m\n\u001b[0m\u001b[1;32m    501\u001b[0m \u001b[0;34m\u001b[0m\u001b[0m\n\u001b[1;32m    502\u001b[0m     \u001b[0;32mdef\u001b[0m \u001b[0m_more_tags\u001b[0m\u001b[0;34m(\u001b[0m\u001b[0mself\u001b[0m\u001b[0;34m)\u001b[0m\u001b[0;34m:\u001b[0m\u001b[0;34m\u001b[0m\u001b[0;34m\u001b[0m\u001b[0m\n",
      "\u001b[0;32m/opt/anaconda3/envs/mlenv/lib/python3.8/site-packages/sklearn/naive_bayes.py\u001b[0m in \u001b[0;36mpredict\u001b[0;34m(self, X)\u001b[0m\n\u001b[1;32m     72\u001b[0m         \"\"\"\n\u001b[1;32m     73\u001b[0m         \u001b[0mcheck_is_fitted\u001b[0m\u001b[0;34m(\u001b[0m\u001b[0mself\u001b[0m\u001b[0;34m)\u001b[0m\u001b[0;34m\u001b[0m\u001b[0;34m\u001b[0m\u001b[0m\n\u001b[0;32m---> 74\u001b[0;31m         \u001b[0mX\u001b[0m \u001b[0;34m=\u001b[0m \u001b[0mself\u001b[0m\u001b[0;34m.\u001b[0m\u001b[0m_check_X\u001b[0m\u001b[0;34m(\u001b[0m\u001b[0mX\u001b[0m\u001b[0;34m)\u001b[0m\u001b[0;34m\u001b[0m\u001b[0;34m\u001b[0m\u001b[0m\n\u001b[0m\u001b[1;32m     75\u001b[0m         \u001b[0mjll\u001b[0m \u001b[0;34m=\u001b[0m \u001b[0mself\u001b[0m\u001b[0;34m.\u001b[0m\u001b[0m_joint_log_likelihood\u001b[0m\u001b[0;34m(\u001b[0m\u001b[0mX\u001b[0m\u001b[0;34m)\u001b[0m\u001b[0;34m\u001b[0m\u001b[0;34m\u001b[0m\u001b[0m\n\u001b[1;32m     76\u001b[0m         \u001b[0;32mreturn\u001b[0m \u001b[0mself\u001b[0m\u001b[0;34m.\u001b[0m\u001b[0mclasses_\u001b[0m\u001b[0;34m[\u001b[0m\u001b[0mnp\u001b[0m\u001b[0;34m.\u001b[0m\u001b[0margmax\u001b[0m\u001b[0;34m(\u001b[0m\u001b[0mjll\u001b[0m\u001b[0;34m,\u001b[0m \u001b[0maxis\u001b[0m\u001b[0;34m=\u001b[0m\u001b[0;36m1\u001b[0m\u001b[0;34m)\u001b[0m\u001b[0;34m]\u001b[0m\u001b[0;34m\u001b[0m\u001b[0;34m\u001b[0m\u001b[0m\n",
      "\u001b[0;32m/opt/anaconda3/envs/mlenv/lib/python3.8/site-packages/sklearn/naive_bayes.py\u001b[0m in \u001b[0;36m_check_X\u001b[0;34m(self, X)\u001b[0m\n\u001b[1;32m    472\u001b[0m \u001b[0;34m\u001b[0m\u001b[0m\n\u001b[1;32m    473\u001b[0m     \u001b[0;32mdef\u001b[0m \u001b[0m_check_X\u001b[0m\u001b[0;34m(\u001b[0m\u001b[0mself\u001b[0m\u001b[0;34m,\u001b[0m \u001b[0mX\u001b[0m\u001b[0;34m)\u001b[0m\u001b[0;34m:\u001b[0m\u001b[0;34m\u001b[0m\u001b[0;34m\u001b[0m\u001b[0m\n\u001b[0;32m--> 474\u001b[0;31m         \u001b[0;32mreturn\u001b[0m \u001b[0mcheck_array\u001b[0m\u001b[0;34m(\u001b[0m\u001b[0mX\u001b[0m\u001b[0;34m,\u001b[0m \u001b[0maccept_sparse\u001b[0m\u001b[0;34m=\u001b[0m\u001b[0;34m'csr'\u001b[0m\u001b[0;34m)\u001b[0m\u001b[0;34m\u001b[0m\u001b[0;34m\u001b[0m\u001b[0m\n\u001b[0m\u001b[1;32m    475\u001b[0m \u001b[0;34m\u001b[0m\u001b[0m\n\u001b[1;32m    476\u001b[0m     \u001b[0;32mdef\u001b[0m \u001b[0m_check_X_y\u001b[0m\u001b[0;34m(\u001b[0m\u001b[0mself\u001b[0m\u001b[0;34m,\u001b[0m \u001b[0mX\u001b[0m\u001b[0;34m,\u001b[0m \u001b[0my\u001b[0m\u001b[0;34m)\u001b[0m\u001b[0;34m:\u001b[0m\u001b[0;34m\u001b[0m\u001b[0;34m\u001b[0m\u001b[0m\n",
      "\u001b[0;32m/opt/anaconda3/envs/mlenv/lib/python3.8/site-packages/sklearn/utils/validation.py\u001b[0m in \u001b[0;36minner_f\u001b[0;34m(*args, **kwargs)\u001b[0m\n\u001b[1;32m     61\u001b[0m             \u001b[0mextra_args\u001b[0m \u001b[0;34m=\u001b[0m \u001b[0mlen\u001b[0m\u001b[0;34m(\u001b[0m\u001b[0margs\u001b[0m\u001b[0;34m)\u001b[0m \u001b[0;34m-\u001b[0m \u001b[0mlen\u001b[0m\u001b[0;34m(\u001b[0m\u001b[0mall_args\u001b[0m\u001b[0;34m)\u001b[0m\u001b[0;34m\u001b[0m\u001b[0;34m\u001b[0m\u001b[0m\n\u001b[1;32m     62\u001b[0m             \u001b[0;32mif\u001b[0m \u001b[0mextra_args\u001b[0m \u001b[0;34m<=\u001b[0m \u001b[0;36m0\u001b[0m\u001b[0;34m:\u001b[0m\u001b[0;34m\u001b[0m\u001b[0;34m\u001b[0m\u001b[0m\n\u001b[0;32m---> 63\u001b[0;31m                 \u001b[0;32mreturn\u001b[0m \u001b[0mf\u001b[0m\u001b[0;34m(\u001b[0m\u001b[0;34m*\u001b[0m\u001b[0margs\u001b[0m\u001b[0;34m,\u001b[0m \u001b[0;34m**\u001b[0m\u001b[0mkwargs\u001b[0m\u001b[0;34m)\u001b[0m\u001b[0;34m\u001b[0m\u001b[0;34m\u001b[0m\u001b[0m\n\u001b[0m\u001b[1;32m     64\u001b[0m \u001b[0;34m\u001b[0m\u001b[0m\n\u001b[1;32m     65\u001b[0m             \u001b[0;31m# extra_args > 0\u001b[0m\u001b[0;34m\u001b[0m\u001b[0;34m\u001b[0m\u001b[0;34m\u001b[0m\u001b[0m\n",
      "\u001b[0;32m/opt/anaconda3/envs/mlenv/lib/python3.8/site-packages/sklearn/utils/validation.py\u001b[0m in \u001b[0;36mcheck_array\u001b[0;34m(array, accept_sparse, accept_large_sparse, dtype, order, copy, force_all_finite, ensure_2d, allow_nd, ensure_min_samples, ensure_min_features, estimator)\u001b[0m\n\u001b[1;32m    692\u001b[0m             \u001b[0;31m# If input is 1D raise error\u001b[0m\u001b[0;34m\u001b[0m\u001b[0;34m\u001b[0m\u001b[0;34m\u001b[0m\u001b[0m\n\u001b[1;32m    693\u001b[0m             \u001b[0;32mif\u001b[0m \u001b[0marray\u001b[0m\u001b[0;34m.\u001b[0m\u001b[0mndim\u001b[0m \u001b[0;34m==\u001b[0m \u001b[0;36m1\u001b[0m\u001b[0;34m:\u001b[0m\u001b[0;34m\u001b[0m\u001b[0;34m\u001b[0m\u001b[0m\n\u001b[0;32m--> 694\u001b[0;31m                 raise ValueError(\n\u001b[0m\u001b[1;32m    695\u001b[0m                     \u001b[0;34m\"Expected 2D array, got 1D array instead:\\narray={}.\\n\"\u001b[0m\u001b[0;34m\u001b[0m\u001b[0;34m\u001b[0m\u001b[0m\n\u001b[1;32m    696\u001b[0m                     \u001b[0;34m\"Reshape your data either using array.reshape(-1, 1) if \"\u001b[0m\u001b[0;34m\u001b[0m\u001b[0;34m\u001b[0m\u001b[0m\n",
      "\u001b[0;31mValueError\u001b[0m: Expected 2D array, got 1D array instead:\narray=[0 1 1 ... 1 1 1].\nReshape your data either using array.reshape(-1, 1) if your data has a single feature or array.reshape(1, -1) if it contains a single sample."
     ]
    }
   ],
   "source": [
    "# Finding the accuracy of the Multinomial Navie Bayes model\n",
    "# MultinomialNB is suitable for classificaion with discrete features\n",
    "model.score(y_pred,y_test)"
   ]
  },
  {
   "cell_type": "code",
   "execution_count": null,
   "metadata": {},
   "outputs": [],
   "source": [
    "# Save model & countVectorizer to disk\n",
    "pickle.dump(model, open('nb_model.sav', 'wb'))\n",
    "pickle.dump(cv, open('cv.sav', 'wb'))"
   ]
  },
  {
   "cell_type": "code",
   "execution_count": 9,
   "metadata": {},
   "outputs": [
    {
     "data": {
      "text/plain": [
       "array(['WASHINGTON (Reuters) - When Jeb Hensarling, the Republican chair of the U.S. House Financial Services Committee, released legislation this summer to weaken the major financial law known as Dodd-Frank, many said it was a prêt-a-porter plan that his party’s nominee, Donald Trump, could easily adopt. Now that Trump is president-elect, he appears to be doing just that.  Language about financial services posted on the Trump transition website, www.greatagain.gov, echoes the tone of Hensarling’s bill, known as the CHOICE Act.  It calls Dodd-Frank, passed in the wake of the 2007-09 financial crisis and recession, as “a sprawling and complex piece of legislation that has unleashed hundreds of new rules and several new bureaucratic agencies” and promises to dismantle and replace it with “new policies to encourage economic growth and job creation.” Hensarling’s legislation, which his committee approved in September, also takes a replacement approach. The Texas Republican had unveiled his proposal in Trump’s hometown of New York in June, and then met with the businessman later in the day. At the same time, Hensarling was mentioned as a possible Treasury secretary by Trump’s team. He has said he is  not pursuing a Cabinet position.  “The CHOICE Act accurately reflects the priorities that President Trump has placed on the Dodd-Frank problem,” said J.W. Verret, an associate professor at the George Mason University Antonin Scalia Law School and financial regulation expert. Verret regularly meets with and briefs members of Congress and the Securities and Exchange Commission on financial regulation. I think it is a great blueprint for everything that he has promised,” said Verret, a former Republican congressional staffer.  The Hensarling blueprint would primarily allow banks to choose between complying with Dodd-Frank or meeting tougher capital requirements - primarily to maintain a ratio of tangible equity to leverage exposure of 10 percent.  It would also reorganize the Consumer Financial Protection Bureau, throw out the Volcker Rule restricting banks from making speculative investments and eliminate the authority of the Financial Stability Oversight Council to designate non-banks as “systemically important.”  It also differs from the Dodd-Frank legislation in the way it treats insolvent banks. Hensarling says his approach will prevent taxpayer dollars from being used to bail out failed institutions.  Alongside Obamacare, Dodd-Frank is considered one of Democratic President Barack Obama’s signature domestic policies. The most senior Democrat on the Senate Banking Committee, Sherrod Brown, has been a vocal defender of it, as has liberal firebrand Senator Elizabeth Warren. That means a Dodd-Frank revamp could stall in one chamber of Congress. Senate rules allow a single member to block a bill from proceeding to a vote. Trump said last May that he would dismantle Dodd-Frank, primarily because the law makes it hard for banks to loan money.  But few have called for total demolition of it, with bank industry sources privately saying they would like to see an easing of Dodd-Frank rules.  Trump campaign adviser Anthony Scaramucci, a Wall Street financier, said this week that the administration will review the law and “the worst anti-business parts of it will be gutted.” Verret said he believes some components of the CHOICE Act will appeal to the populist anger felt by Tea Party members and Trump supporters toward big banks. One such provision, he said, would place limits on how central banks can lend to financial institutions in times of crisis, an in effort to prevent future bailouts. This kind of reform, he added, appeals “to both populists and free market thinkers at the same time.” ',\n",
       "       'It you re into puzzles and figuring stuff out, you ve been loving the past few weeks trying to figure out who the vice presidential picks for either major party will be. Now that we know Indiana Gov. Mike Pence is Donald Trump s pick, we re now left to sift through clues to figure out who Hillary Clinton will give the nod too.Well, one huge clue was given when Elizabeth Warren showed up at Hillary Clinton s Washington D.C. home today, but an ever bigger clue has come as Warren s name appears to no longer be on the speaking schedule for the Democratic National Convention.Originally slotted to speak as the keynote speaker on Monday night of the convention, Warren s name is now missing.According to Politico, this is the schedule as it stands now:Monday:  First Lady Michelle Obama, Senator Bernie Sanders and DREAMer Astrid Silva Gavel time expected at 3:00 p.m.Tuesday:  President Bill Clinton Gavel time expected at 4:00 p.m.Also scheduled Tuesday are Mothers of the Movement members Gwen Carr, Mother of Eric Garner; Sybrina Fulton, Mother of Trayvon Martin; Maria Hamilton, Mother of Dontr  Hamilton; Lucia McBath, Mother of Jordan Davis; Lezley McSpadden, Mother of Michael Brown; Cleopatra Pendleton-Cowley, Mother of Hadiya Pendleton; Geneva Reed-Veal, Mother of Sandra Bland.Wednesday:  President Barack Obama and Vice President Joe Biden Gavel time expected at 4:30 p.m.Thursday:  Hillary Clinton and Chelsea Clinton Gavel time expected at 4:30 p.m.Very interesting indeed.Noticeably also missing are other members on Clinton s shortlist for vice president, such as Sherrod Brown and Tim Kaine, but seeing as Warren was scheduled to speak, and now isn t, it could be very, very telling.Now that Trump has rounded out his ticket with Mike Pence, a man who represents the only group Trump has yet to openly hate   the LGBT community   it s looking pretty good for Clinton come November, and hopefully whoever she picks as her VP will round out the ticket nicely.Featured image via Jessica Kourkounis/Getty Images',\n",
       "       'Women now have even more of a reason to vote overwhelmingly against Trump and the GOP on November 8th.On Tuesday, FiveThirtyEight s Nate Silver released a graphic showing that if only men voted Trump would win 350 electoral votes to Hillary s 188, thus becoming president. On the other hand, if only women voted, Hillary would win by an even bigger landslide 458 to 80.Here s what the map would look line if only women voted: https://t.co/sjVY67qouE pic.twitter.com/rrc3GuXmGl  Nate Silver (@NateSilver538) October 11, 2016And here s if just dudes voted. pic.twitter.com/HjqJzIVwc4  Nate Silver (@NateSilver538) October 11, 2016Of course, this news immediately sent conservative Trump supporters into a rage and now they are calling for repealing the 19th Amendment to guarantee that only men can vote so that Democrats can never again win the presidency.#RepealThe19thHERE S WHY =>THESE BRAINWASHED DUMB SLUTBAGS CAN VOTE & DECIDE THE FUTURE OF THIS COUNTRY:https://t.co/jnNXAvxIX1   #AnudaPussycaust  (@LibertySlap) October 12, 2016Female suffrage coincides w/ a ballooning of the State, openness to mass 3rd world immigration, & accelerated social decay. #repealthe19th   Aberrant Harpooner  (@CruisingGallows) October 12, 2016Repeal it. Men who have a family & own property should be the only ones allowed to vote anyway #repealthe19th  Deplorable American (@SkinheadNeoNazi) October 12, 2016To prevent the US from becoming Brazil. #RepealThe19th pic.twitter.com/QQVd3Qre7O  Ad Benedict ? (@AdBen_) October 12, 2016Women s suffrage is a force of chaos and destruction. Civilization will collapse under female/POC coalition#Repealthe19th https://t.co/dvn5rR43qK  Contrarian Gent (@ContrarianGent) October 12, 2016Give out nice enough handbags and most broads would gladly trade their voting rights for one. #repealthe19th  Michael Maier (@mmaier2112) October 12, 2016#RepealThe19th and fight our cultural suicide  }]) ([{ (@MSI_SATORI) September 30, 2016If women are truly childish enough to not vote for Trump since he thought Miss Universe needed to stay in shape, #RepealThe19th.#KellyFile   L  C s  T s (@MrJohnQZombie) September 29, 2016Women reacting to @HillaryClinton with tears, exaggerated  you go girl  cheers, &c. is a solid argument for why we need to #RepealThe19th.   L  C s  T s (@MrJohnQZombie) September 27, 2016This is why we need to repeal and not replace the 19th amendment. #RepealThe19th https://t.co/bV4WnbgQ2H  David McCall (@WoodrowMelkin) October 12, 2016@NateSilver538 Women are not fit for politics. #RepealThe19th  Reichsf hrer Pepe (@smugpepe1488) October 11, 2016@emmaroller men should never have given women the right to vote #RepealThe19th  Haunted Holly ? ? (@HollyAnswers) October 11, 2016@bells8911 @villainial #RepealThe19th  Deplorable #13300472 (@2000RavensD) September 15, 2016This is how unhinged Trump voters are and why it is even more important now than ever before that women exercise their right to vote. Because if Trump and his conservative supporters have their way, women will lose it.Featured Image: The Progressive Redneck',\n",
       "       ...,\n",
       "       'WASHINGTON (Reuters) - U.S. House Republicans are unlikely to begin tackling tax reform legislation until the summer, after first moving to revamp the nation’s healthcare system, House Speaker Paul Ryan said on Thursday. In an interview with Fox News, the Wisconsin Republican said lawmakers had to make good on their pledge to repeal and replace the Affordable Care Act, or Obamacare, before they can turn to rewriting the U.S. tax code. “It’s just the way the budget works that we won’t be able to get the ability to write our tax reform bill until our spring budget passes, and then we write that through the summer,” Ryan told Fox News. “We feel the need to rescue (healthcare),” he said. “That’s why we’re going with healthcare first, and that’s the first budget. And then in the spring, when we do our second budget, that’s where tax reform comes.” Ryan later told reporters at his weekly press conference that he hoped to move on healthcare legislation by the end of March. His comments came as Trump, who has called on Congress to act swiftly to enact his sweeping agenda, met with the Republican chairman and ranking Democrats on the Senate Finance and Ways and Means committees. The two panels oversee tax writing, among other issues, but the White House meeting appeared to mostly focused on trade. Any tax reform package would also have to pass the Senate, where it could face resistance over a border adjustment tax provision. Republicans, who control both houses of Congress as well as the White House, have pledged a range of overhauls after eight years of the Democratic Obama administration, even as tensions have arisen over timetables and priorities. “Enough ‘all talk, no action.’ We have to deliver,” Trump told Republican lawmakers at their retreat in Philadelphia last month, pushing them to move on tax reform as well as his planned U.S.-Mexico border wall and repealing Obamacare. Trump has also vowed major spending to overhaul the nation’s roads, bridges and other infrastructure. Democrats have said they could back such a plan but would not support privately funded efforts that could lead to people paying tolls and other costs. Ryan dismissed the idea of using taxpayer funds on infrastructure, however.  Instead, he told Fox News, House Republicans will weigh how to “leverage more private sector spending” for projects such as pipeline overhauls and reforming the Federal Aviation Administration to revamp the air traffic control system. ',\n",
       "       'NAIROBI (Reuters) - Competing efforts to end South Sudan s civil war allow the government to exploit divisions among international brokers and are unlikely to halt the fighting, a confidential U.N. report said.  South Sudan became the world s newest nation when it gained independence from Sudan in 2011. War broke out in late 2013 and has forced more than a quarter of its 12 million population have fled their homes.   The hostilities in South Sudan continue against a complex backdrop of competing regional and bilateral initiatives to resolve the conflict,  U.N. sanctions monitors said in a report to the Security Council seen by Reuters on Friday.   These efforts suffer from several defects, including inadequate oversight, lack of enforcement and the absence of an integrated, coherent plan for peace.   Among the international bodies involved in trying to bring the warring parties to the table are regional bloc IGAD, the U.N. Security Council, a troika of South Sudan s main Western backers prior to independence, and an African Union panel.  The efforts of these groups are affected by  conflicting interests compounded by underlying rivalries in the region , the panel wrote, in what could refer to the role of leaders such as Uganda s Yoweri Museveni, who deployed troops in 2013 to support the Juba government and opposes an arms embargo.  The government of South Sudan has sought to exploit this division  among the competing efforts, the panel said.  Absent a significant shift toward a more coherent and unified approach  from East African nations, coupled with  broader international support for a single and inclusive political process, current efforts are unlikely to ... halt the violence in South Sudan,  it said. Information Minister Michael Makuei Lueth told reporters in Juba:  There is nothing new in this report.  The leaked report is by a panel mandated to document arms flows and security threats. The proliferation of diplomatic efforts has created an opportunity for parties to  forum shop , the panel wrote, saying this bought the armed groups time to organize military operations and avoid attempts to enforce a settlement.      It noted the military was still able to procure weapons while opposition forces  access to arms  remains limited .  The main opposition figure, Riek Machar, is under house arrest in South Africa and has declined to renounce violence. Kiir continues to buy weapons and government forces continue to attack civilians, the report said.   East African leaders said in June they want the warring sides to recommit to the deal they abandoned more than a year ago. In July, Western donors said the process was no longer viable and froze support for it.  There has been no comment in recent months from IGAD or the African Union about a timeline for resumption of peace talks.  This week the United States imposed sanctions on two senior South Sudanese officials and the former army chief. The Security Council last December vetoed the imposition of an arms embargo recommended by the monitors.  ',\n",
       "       '21st Century Wire says 21WIRE has always pointed out that the marketing facade of Barack Obama as the  Nobel Peace Prize  President is just that   a facade. The facts simply do not support the myth.  Defense OneThe Obama administration has approved more than $278 billion in foreign arms sales in its eight years, more than double the total of the previous administration, according to figures released by the Pentagon on Tuesday.Many of the approved deals   most but hardly all of which have become actual sales   have been to Mideast nations, including key allies in the campaign against Islamic State militants and countries that have been building up their defenses in fear of a nuclear Iran.Saudi Arabia has been the largest recipient, reaping prospective deals worth more than $115 billion, according to notices announcing the deals that were sent to Congress for approval. Nobody even comes close  for the number of deals and total value, said William Hartung, director of the Arms Security Project at the Center for International Policy. Among the weapons approved for Riyadh: F-15 fighter jets, Apache attack helicopters, Blackhawk utility helicopters, missile interceptors, armored vehicles and bombs and missiles Continue this story at Defense OneREAD MORE OBAMA NEWS AT: 21st Century Wire Obama FilesSUPPORT 21WIRE   SUBSCRIBE & BECOME A MEMBER @21WIRE.TV'],\n",
       "      dtype=object)"
      ]
     },
     "execution_count": 9,
     "metadata": {},
     "output_type": "execute_result"
    }
   ],
   "source": [
    "X_train.values"
   ]
  },
  {
   "cell_type": "code",
   "execution_count": 37,
   "metadata": {},
   "outputs": [
    {
     "data": {
      "text/plain": [
       "array([0, 1, 1, ..., 1, 1, 1])"
      ]
     },
     "execution_count": 37,
     "metadata": {},
     "output_type": "execute_result"
    }
   ],
   "source": [
    "y_pred"
   ]
  },
  {
   "cell_type": "code",
   "execution_count": 17,
   "metadata": {},
   "outputs": [
    {
     "data": {
      "text/plain": [
       "array([0, 1, 1, ..., 1, 0, 1])"
      ]
     },
     "execution_count": 17,
     "metadata": {},
     "output_type": "execute_result"
    }
   ],
   "source": [
    "y_test.values"
   ]
  },
  {
   "cell_type": "code",
   "execution_count": 20,
   "metadata": {},
   "outputs": [
    {
     "data": {
      "text/plain": [
       "array([[0, 2, 0, ..., 0, 0, 0],\n",
       "       [0, 0, 0, ..., 0, 0, 0],\n",
       "       [0, 0, 0, ..., 0, 0, 0],\n",
       "       ...,\n",
       "       [0, 0, 0, ..., 0, 0, 0],\n",
       "       [0, 0, 0, ..., 0, 0, 0],\n",
       "       [0, 0, 0, ..., 0, 0, 0]])"
      ]
     },
     "execution_count": 20,
     "metadata": {},
     "output_type": "execute_result"
    }
   ],
   "source": [
    "X_test_count.toarray()"
   ]
  },
  {
   "cell_type": "code",
   "execution_count": 34,
   "metadata": {},
   "outputs": [
    {
     "data": {
      "text/plain": [
       "array([[0, 2, 0, ..., 0, 0, 0],\n",
       "       [0, 0, 0, ..., 0, 0, 0],\n",
       "       [0, 0, 0, ..., 0, 0, 0],\n",
       "       ...,\n",
       "       [0, 0, 0, ..., 0, 0, 0],\n",
       "       [0, 0, 0, ..., 0, 0, 0],\n",
       "       [0, 0, 0, ..., 0, 0, 0]])"
      ]
     },
     "execution_count": 34,
     "metadata": {},
     "output_type": "execute_result"
    }
   ],
   "source": [
    "X_test_count.toarray()"
   ]
  },
  {
   "cell_type": "code",
   "execution_count": null,
   "metadata": {},
   "outputs": [],
   "source": []
  }
 ],
 "metadata": {
  "kernelspec": {
   "display_name": "mlenv",
   "language": "python",
   "name": "mlenv"
  },
  "language_info": {
   "codemirror_mode": {
    "name": "ipython",
    "version": 3
   },
   "file_extension": ".py",
   "mimetype": "text/x-python",
   "name": "python",
   "nbconvert_exporter": "python",
   "pygments_lexer": "ipython3",
   "version": "3.8.5"
  }
 },
 "nbformat": 4,
 "nbformat_minor": 5
}
