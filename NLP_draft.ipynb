{
 "cells": [
  {
   "cell_type": "code",
   "execution_count": 1,
   "metadata": {},
   "outputs": [],
   "source": [
    "import pandas as pd\n",
    "import nltk\n",
    "from nltk import word_tokenize\n",
    "from nltk.corpus import stopwords"
   ]
  },
  {
   "cell_type": "code",
   "execution_count": 2,
   "metadata": {},
   "outputs": [
    {
     "data": {
      "text/html": [
       "<div>\n",
       "<style scoped>\n",
       "    .dataframe tbody tr th:only-of-type {\n",
       "        vertical-align: middle;\n",
       "    }\n",
       "\n",
       "    .dataframe tbody tr th {\n",
       "        vertical-align: top;\n",
       "    }\n",
       "\n",
       "    .dataframe thead th {\n",
       "        text-align: right;\n",
       "    }\n",
       "</style>\n",
       "<table border=\"1\" class=\"dataframe\">\n",
       "  <thead>\n",
       "    <tr style=\"text-align: right;\">\n",
       "      <th></th>\n",
       "      <th>title</th>\n",
       "      <th>text</th>\n",
       "      <th>subject</th>\n",
       "      <th>label</th>\n",
       "    </tr>\n",
       "  </thead>\n",
       "  <tbody>\n",
       "    <tr>\n",
       "      <th>0</th>\n",
       "      <td>Donald Trump Sends Out Embarrassing New Year’...</td>\n",
       "      <td>Donald Trump just couldn t wish all Americans ...</td>\n",
       "      <td>Politics</td>\n",
       "      <td>1</td>\n",
       "    </tr>\n",
       "    <tr>\n",
       "      <th>1</th>\n",
       "      <td>Drunk Bragging Trump Staffer Started Russian ...</td>\n",
       "      <td>House Intelligence Committee Chairman Devin Nu...</td>\n",
       "      <td>Politics</td>\n",
       "      <td>1</td>\n",
       "    </tr>\n",
       "    <tr>\n",
       "      <th>2</th>\n",
       "      <td>Sheriff David Clarke Becomes An Internet Joke...</td>\n",
       "      <td>On Friday, it was revealed that former Milwauk...</td>\n",
       "      <td>Politics</td>\n",
       "      <td>1</td>\n",
       "    </tr>\n",
       "    <tr>\n",
       "      <th>3</th>\n",
       "      <td>Trump Is So Obsessed He Even Has Obama’s Name...</td>\n",
       "      <td>On Christmas day, Donald Trump announced that ...</td>\n",
       "      <td>Politics</td>\n",
       "      <td>1</td>\n",
       "    </tr>\n",
       "    <tr>\n",
       "      <th>4</th>\n",
       "      <td>Pope Francis Just Called Out Donald Trump Dur...</td>\n",
       "      <td>Pope Francis used his annual Christmas Day mes...</td>\n",
       "      <td>Politics</td>\n",
       "      <td>1</td>\n",
       "    </tr>\n",
       "  </tbody>\n",
       "</table>\n",
       "</div>"
      ],
      "text/plain": [
       "                                               title  \\\n",
       "0   Donald Trump Sends Out Embarrassing New Year’...   \n",
       "1   Drunk Bragging Trump Staffer Started Russian ...   \n",
       "2   Sheriff David Clarke Becomes An Internet Joke...   \n",
       "3   Trump Is So Obsessed He Even Has Obama’s Name...   \n",
       "4   Pope Francis Just Called Out Donald Trump Dur...   \n",
       "\n",
       "                                                text   subject  label  \n",
       "0  Donald Trump just couldn t wish all Americans ...  Politics      1  \n",
       "1  House Intelligence Committee Chairman Devin Nu...  Politics      1  \n",
       "2  On Friday, it was revealed that former Milwauk...  Politics      1  \n",
       "3  On Christmas day, Donald Trump announced that ...  Politics      1  \n",
       "4  Pope Francis used his annual Christmas Day mes...  Politics      1  "
      ]
     },
     "execution_count": 2,
     "metadata": {},
     "output_type": "execute_result"
    }
   ],
   "source": [
    "# Read CSV\n",
    "df = pd.read_csv(\"articles.csv\")\n",
    "df.head()\n",
    "\n",
    "# output = nltk.pos_tag(text)\n",
    "# print(output)"
   ]
  },
  {
   "cell_type": "code",
   "execution_count": 3,
   "metadata": {},
   "outputs": [],
   "source": [
    "stop = stopwords.words('english') "
   ]
  },
  {
   "cell_type": "code",
   "execution_count": 4,
   "metadata": {},
   "outputs": [],
   "source": [
    "# lowercase title\n",
    "###title_token = word_tokenize(data['title'])\n",
    "df['title'] = df['title'].apply(lambda x: x.lower())\n",
    "\n",
    "#data['title'] = data['title'].apply(lambda x: ''.join (word for word in x.split() if word not in (stop)))"
   ]
  },
  {
   "cell_type": "code",
   "execution_count": 5,
   "metadata": {},
   "outputs": [
    {
     "data": {
      "text/plain": [
       "0    [donald, trump, sends, out, embarrassing, new,...\n",
       "1    [drunk, bragging, trump, staffer, started, rus...\n",
       "2    [sheriff, david, clarke, becomes, an, internet...\n",
       "3    [trump, is, so, obsessed, he, even, has, obama...\n",
       "4    [pope, francis, just, called, out, donald, tru...\n",
       "Name: title_tokenized, dtype: object"
      ]
     },
     "execution_count": 5,
     "metadata": {},
     "output_type": "execute_result"
    }
   ],
   "source": [
    "df['title_tokenized'] = df['title'].apply(word_tokenize)\n",
    "df['title_tokenized'].head()"
   ]
  },
  {
   "cell_type": "code",
   "execution_count": 6,
   "metadata": {},
   "outputs": [
    {
     "data": {
      "text/plain": [
       "0    [donald, trump, sends, embarrassing, new, year...\n",
       "1    [drunk, bragging, trump, staffer, started, rus...\n",
       "2    [sheriff, david, clarke, becomes, internet, jo...\n",
       "3    [trump, obsessed, even, obama, ’, name, coded,...\n",
       "4    [pope, francis, called, donald, trump, christm...\n",
       "Name: title_stopremoved, dtype: object"
      ]
     },
     "execution_count": 6,
     "metadata": {},
     "output_type": "execute_result"
    }
   ],
   "source": [
    "df['title_stopremoved'] = df['title_tokenized'].apply(lambda x: [item for item in x if item not in stop])\n",
    "df['title_stopremoved'].head()"
   ]
  },
  {
   "cell_type": "code",
   "execution_count": 7,
   "metadata": {},
   "outputs": [],
   "source": [
    "# from nltk.tag import pos_tag\n",
    "# #df['title_POS'] = nltk.pos_tag(df['title_stopremoved'])\n",
    "# df['title_POS'] = pos_tag(word_tokenize(df['title']))"
   ]
  },
  {
   "cell_type": "code",
   "execution_count": 24,
   "metadata": {},
   "outputs": [],
   "source": [
    "title_wordcount = df['title_stopremoved'].apply(len)\n",
    "df['title_wordcount'] = title_wordcount"
   ]
  },
  {
   "cell_type": "code",
   "execution_count": 9,
   "metadata": {},
   "outputs": [],
   "source": [
    "#df"
   ]
  },
  {
   "cell_type": "code",
   "execution_count": 10,
   "metadata": {},
   "outputs": [
    {
     "data": {
      "text/plain": [
       "<AxesSubplot:>"
      ]
     },
     "execution_count": 10,
     "metadata": {},
     "output_type": "execute_result"
    },
    {
     "data": {
      "image/png": "[encoded data removed]",
      "text/plain": [
       "<Figure size 432x288 with 1 Axes>"
      ]
     },
     "metadata": {
      "needs_background": "light"
     },
     "output_type": "display_data"
    }
   ],
   "source": [
    "pd.Series(title_wordcount).hist(bins = 30,color='blue')"
   ]
  },
  {
   "cell_type": "code",
   "execution_count": 11,
   "metadata": {},
   "outputs": [
    {
     "data": {
      "text/plain": [
       "<AxesSubplot:>"
      ]
     },
     "execution_count": 11,
     "metadata": {},
     "output_type": "execute_result"
    },
    {
     "data": {
      "image/png": "[encoded data removed]",
      "text/plain": [
       "<Figure size 432x288 with 1 Axes>"
      ]
     },
     "metadata": {
      "needs_background": "light"
     },
     "output_type": "display_data"
    }
   ],
   "source": [
    "# Fake news titles\n",
    "\n",
    "df2 = df.loc[df['label']==1]\n",
    "fake_title_wordcount = df2['title_stopremoved'].apply(len)\n",
    "pd.Series(fake_title_wordcount).hist(bins = 30,color='blue')"
   ]
  },
  {
   "cell_type": "code",
   "execution_count": 12,
   "metadata": {},
   "outputs": [
    {
     "data": {
      "text/plain": [
       "<AxesSubplot:>"
      ]
     },
     "execution_count": 12,
     "metadata": {},
     "output_type": "execute_result"
    },
    {
     "data": {
      "image/png": "[encoded data removed]",
      "text/plain": [
       "<Figure size 432x288 with 1 Axes>"
      ]
     },
     "metadata": {
      "needs_background": "light"
     },
     "output_type": "display_data"
    }
   ],
   "source": [
    "# True news titles\n",
    "\n",
    "df3 = df.loc[df['label']==0]\n",
    "true_title_wordcount = df3['title_stopremoved'].apply(len)\n",
    "pd.Series(true_title_wordcount).hist(bins = 30,color='blue')"
   ]
  },
  {
   "cell_type": "code",
   "execution_count": 13,
   "metadata": {},
   "outputs": [],
   "source": [
    "#title_tag = df['title_stopremoved'].to_numpy()\n",
    "# from sklearn.feature_extraction.text import TfidfVectorizer \n",
    " \n",
    "# # settings that you use for count vectorizer will go here \n",
    "# tfidf_vectorizer=TfidfVectorizer(use_idf=True) \n",
    " \n",
    "# # just send in all your docs here \n",
    "# tfidf_vectorizer_vectors=tfidf_vectorizer.fit_transform(title_tag)\n",
    "# nltk.pos_tag(title_tag)"
   ]
  },
  {
   "cell_type": "code",
   "execution_count": 14,
   "metadata": {},
   "outputs": [],
   "source": [
    "# from sklearn.feature_extraction.text import CountVectorizer,TfidfTransformer\n",
    "# cv=CountVectorizer(max_features=1000)\n",
    "# vect=cv.fit_transform(df['title_stopremoved'].toarray()\n",
    "# vect"
   ]
  },
  {
   "cell_type": "code",
   "execution_count": 15,
   "metadata": {},
   "outputs": [
    {
     "data": {
      "text/plain": [
       "0    [Donald, Trump, just, couldn, t, wish, all, Am...\n",
       "1    [House, Intelligence, Committee, Chairman, Dev...\n",
       "2    [On, Friday, ,, it, was, revealed, that, forme...\n",
       "3    [On, Christmas, day, ,, Donald, Trump, announc...\n",
       "4    [Pope, Francis, used, his, annual, Christmas, ...\n",
       "Name: text_tokenized, dtype: object"
      ]
     },
     "execution_count": 15,
     "metadata": {},
     "output_type": "execute_result"
    }
   ],
   "source": [
    "# Totenizing text\n",
    "###title_token = word_tokenize(data['title'])\n",
    "df['text_tokenized'] = df['text'].apply(word_tokenize)\n",
    "df['text_tokenized'].head()"
   ]
  },
  {
   "cell_type": "code",
   "execution_count": 16,
   "metadata": {},
   "outputs": [
    {
     "data": {
      "text/plain": [
       "0    [Donald, Trump, wish, Americans, Happy, New, Y...\n",
       "1    [House, Intelligence, Committee, Chairman, Dev...\n",
       "2    [On, Friday, ,, revealed, former, Milwaukee, S...\n",
       "3    [On, Christmas, day, ,, Donald, Trump, announc...\n",
       "4    [Pope, Francis, used, annual, Christmas, Day, ...\n",
       "Name: text_stopremoved, dtype: object"
      ]
     },
     "execution_count": 16,
     "metadata": {},
     "output_type": "execute_result"
    }
   ],
   "source": [
    "df['text_stopremoved'] = df['text_tokenized'].apply(lambda x: [item for item in x if item not in stop])\n",
    "df['text_stopremoved'].head()"
   ]
  },
  {
   "cell_type": "code",
   "execution_count": 25,
   "metadata": {},
   "outputs": [
    {
     "data": {
      "text/html": [
       "<div>\n",
       "<style scoped>\n",
       "    .dataframe tbody tr th:only-of-type {\n",
       "        vertical-align: middle;\n",
       "    }\n",
       "\n",
       "    .dataframe tbody tr th {\n",
       "        vertical-align: top;\n",
       "    }\n",
       "\n",
       "    .dataframe thead th {\n",
       "        text-align: right;\n",
       "    }\n",
       "</style>\n",
       "<table border=\"1\" class=\"dataframe\">\n",
       "  <thead>\n",
       "    <tr style=\"text-align: right;\">\n",
       "      <th></th>\n",
       "      <th>title</th>\n",
       "      <th>text</th>\n",
       "      <th>subject</th>\n",
       "      <th>label</th>\n",
       "      <th>title_tokenized</th>\n",
       "      <th>title_stopremoved</th>\n",
       "      <th>text_tokenized</th>\n",
       "      <th>text_stopremoved</th>\n",
       "      <th>text_wordcount</th>\n",
       "      <th>title_wordcount</th>\n",
       "    </tr>\n",
       "  </thead>\n",
       "  <tbody>\n",
       "    <tr>\n",
       "      <th>0</th>\n",
       "      <td>donald trump sends out embarrassing new year’...</td>\n",
       "      <td>Donald Trump just couldn t wish all Americans ...</td>\n",
       "      <td>Politics</td>\n",
       "      <td>1</td>\n",
       "      <td>[donald, trump, sends, out, embarrassing, new,...</td>\n",
       "      <td>[donald, trump, sends, embarrassing, new, year...</td>\n",
       "      <td>[Donald, Trump, just, couldn, t, wish, all, Am...</td>\n",
       "      <td>[Donald, Trump, wish, Americans, Happy, New, Y...</td>\n",
       "      <td>406</td>\n",
       "      <td>11</td>\n",
       "    </tr>\n",
       "    <tr>\n",
       "      <th>1</th>\n",
       "      <td>drunk bragging trump staffer started russian ...</td>\n",
       "      <td>House Intelligence Committee Chairman Devin Nu...</td>\n",
       "      <td>Politics</td>\n",
       "      <td>1</td>\n",
       "      <td>[drunk, bragging, trump, staffer, started, rus...</td>\n",
       "      <td>[drunk, bragging, trump, staffer, started, rus...</td>\n",
       "      <td>[House, Intelligence, Committee, Chairman, Dev...</td>\n",
       "      <td>[House, Intelligence, Committee, Chairman, Dev...</td>\n",
       "      <td>211</td>\n",
       "      <td>8</td>\n",
       "    </tr>\n",
       "    <tr>\n",
       "      <th>2</th>\n",
       "      <td>sheriff david clarke becomes an internet joke...</td>\n",
       "      <td>On Friday, it was revealed that former Milwauk...</td>\n",
       "      <td>Politics</td>\n",
       "      <td>1</td>\n",
       "      <td>[sheriff, david, clarke, becomes, an, internet...</td>\n",
       "      <td>[sheriff, david, clarke, becomes, internet, jo...</td>\n",
       "      <td>[On, Friday, ,, it, was, revealed, that, forme...</td>\n",
       "      <td>[On, Friday, ,, revealed, former, Milwaukee, S...</td>\n",
       "      <td>469</td>\n",
       "      <td>12</td>\n",
       "    </tr>\n",
       "    <tr>\n",
       "      <th>3</th>\n",
       "      <td>trump is so obsessed he even has obama’s name...</td>\n",
       "      <td>On Christmas day, Donald Trump announced that ...</td>\n",
       "      <td>Politics</td>\n",
       "      <td>1</td>\n",
       "      <td>[trump, is, so, obsessed, he, even, has, obama...</td>\n",
       "      <td>[trump, obsessed, even, obama, ’, name, coded,...</td>\n",
       "      <td>[On, Christmas, day, ,, Donald, Trump, announc...</td>\n",
       "      <td>[On, Christmas, day, ,, Donald, Trump, announc...</td>\n",
       "      <td>356</td>\n",
       "      <td>11</td>\n",
       "    </tr>\n",
       "    <tr>\n",
       "      <th>4</th>\n",
       "      <td>pope francis just called out donald trump dur...</td>\n",
       "      <td>Pope Francis used his annual Christmas Day mes...</td>\n",
       "      <td>Politics</td>\n",
       "      <td>1</td>\n",
       "      <td>[pope, francis, just, called, out, donald, tru...</td>\n",
       "      <td>[pope, francis, called, donald, trump, christm...</td>\n",
       "      <td>[Pope, Francis, used, his, annual, Christmas, ...</td>\n",
       "      <td>[Pope, Francis, used, annual, Christmas, Day, ...</td>\n",
       "      <td>261</td>\n",
       "      <td>7</td>\n",
       "    </tr>\n",
       "    <tr>\n",
       "      <th>...</th>\n",
       "      <td>...</td>\n",
       "      <td>...</td>\n",
       "      <td>...</td>\n",
       "      <td>...</td>\n",
       "      <td>...</td>\n",
       "      <td>...</td>\n",
       "      <td>...</td>\n",
       "      <td>...</td>\n",
       "      <td>...</td>\n",
       "      <td>...</td>\n",
       "    </tr>\n",
       "    <tr>\n",
       "      <th>33970</th>\n",
       "      <td>obama says willing to work with republican spe...</td>\n",
       "      <td>WASHINGTON (Reuters) - President Barack Obama ...</td>\n",
       "      <td>Politics</td>\n",
       "      <td>0</td>\n",
       "      <td>[obama, says, willing, to, work, with, republi...</td>\n",
       "      <td>[obama, says, willing, work, republican, speak...</td>\n",
       "      <td>[WASHINGTON, (, Reuters, ), -, President, Bara...</td>\n",
       "      <td>[WASHINGTON, (, Reuters, ), -, President, Bara...</td>\n",
       "      <td>58</td>\n",
       "      <td>7</td>\n",
       "    </tr>\n",
       "    <tr>\n",
       "      <th>33971</th>\n",
       "      <td>obama says islamic state fight far from 'world...</td>\n",
       "      <td>WASHINGTON (Reuters) - President Barack Obama ...</td>\n",
       "      <td>Politics</td>\n",
       "      <td>0</td>\n",
       "      <td>[obama, says, islamic, state, fight, far, from...</td>\n",
       "      <td>[obama, says, islamic, state, fight, far, 'wor...</td>\n",
       "      <td>[WASHINGTON, (, Reuters, ), -, President, Bara...</td>\n",
       "      <td>[WASHINGTON, (, Reuters, ), -, President, Bara...</td>\n",
       "      <td>84</td>\n",
       "      <td>12</td>\n",
       "    </tr>\n",
       "    <tr>\n",
       "      <th>33972</th>\n",
       "      <td>chelsea clinton stands her mother's ground in ...</td>\n",
       "      <td>MANCHESTER, N.H. (Reuters) - U.S. Democratic p...</td>\n",
       "      <td>Politics</td>\n",
       "      <td>0</td>\n",
       "      <td>[chelsea, clinton, stands, her, mother, 's, gr...</td>\n",
       "      <td>[chelsea, clinton, stands, mother, 's, ground,...</td>\n",
       "      <td>[MANCHESTER, ,, N.H., (, Reuters, ), -, U.S., ...</td>\n",
       "      <td>[MANCHESTER, ,, N.H., (, Reuters, ), -, U.S., ...</td>\n",
       "      <td>341</td>\n",
       "      <td>8</td>\n",
       "    </tr>\n",
       "    <tr>\n",
       "      <th>33973</th>\n",
       "      <td>obama jokes about a trump state of the union a...</td>\n",
       "      <td>WASHINGTON (Reuters) - President Barack Obama ...</td>\n",
       "      <td>Politics</td>\n",
       "      <td>0</td>\n",
       "      <td>[obama, jokes, about, a, trump, state, of, the...</td>\n",
       "      <td>[obama, jokes, trump, state, union, address]</td>\n",
       "      <td>[WASHINGTON, (, Reuters, ), -, President, Bara...</td>\n",
       "      <td>[WASHINGTON, (, Reuters, ), -, President, Bara...</td>\n",
       "      <td>281</td>\n",
       "      <td>6</td>\n",
       "    </tr>\n",
       "    <tr>\n",
       "      <th>33974</th>\n",
       "      <td>clinton expands on plan to tax wealthy as sand...</td>\n",
       "      <td>AMES, Iowa (Reuters) - U.S. Democratic preside...</td>\n",
       "      <td>Politics</td>\n",
       "      <td>0</td>\n",
       "      <td>[clinton, expands, on, plan, to, tax, wealthy,...</td>\n",
       "      <td>[clinton, expands, plan, tax, wealthy, sanders...</td>\n",
       "      <td>[AMES, ,, Iowa, (, Reuters, ), -, U.S., Democr...</td>\n",
       "      <td>[AMES, ,, Iowa, (, Reuters, ), -, U.S., Democr...</td>\n",
       "      <td>283</td>\n",
       "      <td>8</td>\n",
       "    </tr>\n",
       "  </tbody>\n",
       "</table>\n",
       "<p>33975 rows × 10 columns</p>\n",
       "</div>"
      ],
      "text/plain": [
       "                                                   title  \\\n",
       "0       donald trump sends out embarrassing new year’...   \n",
       "1       drunk bragging trump staffer started russian ...   \n",
       "2       sheriff david clarke becomes an internet joke...   \n",
       "3       trump is so obsessed he even has obama’s name...   \n",
       "4       pope francis just called out donald trump dur...   \n",
       "...                                                  ...   \n",
       "33970  obama says willing to work with republican spe...   \n",
       "33971  obama says islamic state fight far from 'world...   \n",
       "33972  chelsea clinton stands her mother's ground in ...   \n",
       "33973  obama jokes about a trump state of the union a...   \n",
       "33974  clinton expands on plan to tax wealthy as sand...   \n",
       "\n",
       "                                                    text   subject  label  \\\n",
       "0      Donald Trump just couldn t wish all Americans ...  Politics      1   \n",
       "1      House Intelligence Committee Chairman Devin Nu...  Politics      1   \n",
       "2      On Friday, it was revealed that former Milwauk...  Politics      1   \n",
       "3      On Christmas day, Donald Trump announced that ...  Politics      1   \n",
       "4      Pope Francis used his annual Christmas Day mes...  Politics      1   \n",
       "...                                                  ...       ...    ...   \n",
       "33970  WASHINGTON (Reuters) - President Barack Obama ...  Politics      0   \n",
       "33971  WASHINGTON (Reuters) - President Barack Obama ...  Politics      0   \n",
       "33972  MANCHESTER, N.H. (Reuters) - U.S. Democratic p...  Politics      0   \n",
       "33973  WASHINGTON (Reuters) - President Barack Obama ...  Politics      0   \n",
       "33974  AMES, Iowa (Reuters) - U.S. Democratic preside...  Politics      0   \n",
       "\n",
       "                                         title_tokenized  \\\n",
       "0      [donald, trump, sends, out, embarrassing, new,...   \n",
       "1      [drunk, bragging, trump, staffer, started, rus...   \n",
       "2      [sheriff, david, clarke, becomes, an, internet...   \n",
       "3      [trump, is, so, obsessed, he, even, has, obama...   \n",
       "4      [pope, francis, just, called, out, donald, tru...   \n",
       "...                                                  ...   \n",
       "33970  [obama, says, willing, to, work, with, republi...   \n",
       "33971  [obama, says, islamic, state, fight, far, from...   \n",
       "33972  [chelsea, clinton, stands, her, mother, 's, gr...   \n",
       "33973  [obama, jokes, about, a, trump, state, of, the...   \n",
       "33974  [clinton, expands, on, plan, to, tax, wealthy,...   \n",
       "\n",
       "                                       title_stopremoved  \\\n",
       "0      [donald, trump, sends, embarrassing, new, year...   \n",
       "1      [drunk, bragging, trump, staffer, started, rus...   \n",
       "2      [sheriff, david, clarke, becomes, internet, jo...   \n",
       "3      [trump, obsessed, even, obama, ’, name, coded,...   \n",
       "4      [pope, francis, called, donald, trump, christm...   \n",
       "...                                                  ...   \n",
       "33970  [obama, says, willing, work, republican, speak...   \n",
       "33971  [obama, says, islamic, state, fight, far, 'wor...   \n",
       "33972  [chelsea, clinton, stands, mother, 's, ground,...   \n",
       "33973       [obama, jokes, trump, state, union, address]   \n",
       "33974  [clinton, expands, plan, tax, wealthy, sanders...   \n",
       "\n",
       "                                          text_tokenized  \\\n",
       "0      [Donald, Trump, just, couldn, t, wish, all, Am...   \n",
       "1      [House, Intelligence, Committee, Chairman, Dev...   \n",
       "2      [On, Friday, ,, it, was, revealed, that, forme...   \n",
       "3      [On, Christmas, day, ,, Donald, Trump, announc...   \n",
       "4      [Pope, Francis, used, his, annual, Christmas, ...   \n",
       "...                                                  ...   \n",
       "33970  [WASHINGTON, (, Reuters, ), -, President, Bara...   \n",
       "33971  [WASHINGTON, (, Reuters, ), -, President, Bara...   \n",
       "33972  [MANCHESTER, ,, N.H., (, Reuters, ), -, U.S., ...   \n",
       "33973  [WASHINGTON, (, Reuters, ), -, President, Bara...   \n",
       "33974  [AMES, ,, Iowa, (, Reuters, ), -, U.S., Democr...   \n",
       "\n",
       "                                        text_stopremoved  text_wordcount  \\\n",
       "0      [Donald, Trump, wish, Americans, Happy, New, Y...             406   \n",
       "1      [House, Intelligence, Committee, Chairman, Dev...             211   \n",
       "2      [On, Friday, ,, revealed, former, Milwaukee, S...             469   \n",
       "3      [On, Christmas, day, ,, Donald, Trump, announc...             356   \n",
       "4      [Pope, Francis, used, annual, Christmas, Day, ...             261   \n",
       "...                                                  ...             ...   \n",
       "33970  [WASHINGTON, (, Reuters, ), -, President, Bara...              58   \n",
       "33971  [WASHINGTON, (, Reuters, ), -, President, Bara...              84   \n",
       "33972  [MANCHESTER, ,, N.H., (, Reuters, ), -, U.S., ...             341   \n",
       "33973  [WASHINGTON, (, Reuters, ), -, President, Bara...             281   \n",
       "33974  [AMES, ,, Iowa, (, Reuters, ), -, U.S., Democr...             283   \n",
       "\n",
       "       title_wordcount  \n",
       "0                   11  \n",
       "1                    8  \n",
       "2                   12  \n",
       "3                   11  \n",
       "4                    7  \n",
       "...                ...  \n",
       "33970                7  \n",
       "33971               12  \n",
       "33972                8  \n",
       "33973                6  \n",
       "33974                8  \n",
       "\n",
       "[33975 rows x 10 columns]"
      ]
     },
     "execution_count": 25,
     "metadata": {},
     "output_type": "execute_result"
    }
   ],
   "source": [
    "text_wordcount= df['text_stopremoved'].apply(len)\n",
    "df['text_wordcount']=text_wordcount\n",
    "df"
   ]
  },
  {
   "cell_type": "code",
   "execution_count": 18,
   "metadata": {},
   "outputs": [
    {
     "data": {
      "text/plain": [
       "<AxesSubplot:>"
      ]
     },
     "execution_count": 18,
     "metadata": {},
     "output_type": "execute_result"
    },
    {
     "data": {
      "image/png": "[encoded data removed]",
      "text/plain": [
       "<Figure size 432x288 with 1 Axes>"
      ]
     },
     "metadata": {
      "needs_background": "light"
     },
     "output_type": "display_data"
    }
   ],
   "source": [
    "pd.Series(text_wordcount).hist(bins = 1000,color='blue')"
   ]
  },
  {
   "cell_type": "code",
   "execution_count": 19,
   "metadata": {},
   "outputs": [
    {
     "data": {
      "text/plain": [
       "<AxesSubplot:>"
      ]
     },
     "execution_count": 19,
     "metadata": {},
     "output_type": "execute_result"
    },
    {
     "data": {
      "image/png": "[encoded data removed]",
      "text/plain": [
       "<Figure size 432x288 with 1 Axes>"
      ]
     },
     "metadata": {
      "needs_background": "light"
     },
     "output_type": "display_data"
    }
   ],
   "source": [
    "# Fake news text\n",
    "\n",
    "df4 = df.loc[df['label']==1]\n",
    "fake_text_wordcount = df4['text_stopremoved'].apply(len)\n",
    "pd.Series(fake_text_wordcount).hist(bins = 1000,color='blue')"
   ]
  },
  {
   "cell_type": "code",
   "execution_count": 20,
   "metadata": {},
   "outputs": [
    {
     "data": {
      "text/plain": [
       "<AxesSubplot:>"
      ]
     },
     "execution_count": 20,
     "metadata": {},
     "output_type": "execute_result"
    },
    {
     "data": {
      "image/png": "[encoded data removed]",
      "text/plain": [
       "<Figure size 432x288 with 1 Axes>"
      ]
     },
     "metadata": {
      "needs_background": "light"
     },
     "output_type": "display_data"
    }
   ],
   "source": [
    "# True news text\n",
    "\n",
    "df5 = df.loc[df['label']==1]\n",
    "true_text_wordcount = df5['text_stopremoved'].apply(len)\n",
    "pd.Series(true_text_wordcount).hist(bins = 1000,color='blue')"
   ]
  },
  {
   "cell_type": "code",
   "execution_count": 32,
   "metadata": {},
   "outputs": [],
   "source": [
    "# Initial imports\n",
    "import pandas as pd\n",
    "from path import Path\n",
    "from sklearn.model_selection import train_test_split\n",
    "from sklearn.naive_bayes import GaussianNB\n",
    "from sklearn.metrics import accuracy_score"
   ]
  },
  {
   "cell_type": "code",
   "execution_count": 39,
   "metadata": {
    "scrolled": true
   },
   "outputs": [
    {
     "data": {
      "text/plain": [
       "GaussianNB()"
      ]
     },
     "execution_count": 39,
     "metadata": {},
     "output_type": "execute_result"
    }
   ],
   "source": [
    "#defining the feature set X\n",
    "X = df.drop(columns=['title', 'text', 'subject', 'label', 'title_tokenized', 'title_stopremoved', 'text_tokenized', 'text_stopremoved'])\n",
    "y = df['label']\n",
    "\n",
    "# Splitting into Train and Test sets into an 80/20 split.\n",
    "X_train, X_test, y_train, y_test = train_test_split(X, y, random_state=78, train_size=0.80)\n",
    "model = GaussianNB()\n",
    "model.fit(X_train, y_train)"
   ]
  },
  {
   "cell_type": "code",
   "execution_count": 40,
   "metadata": {},
   "outputs": [
    {
     "data": {
      "text/plain": [
       "array([0, 0, 0, ..., 1, 0, 1])"
      ]
     },
     "execution_count": 40,
     "metadata": {},
     "output_type": "execute_result"
    }
   ],
   "source": [
    "y_pred = model.predict(X_train)\n",
    "y_pred"
   ]
  },
  {
   "cell_type": "code",
   "execution_count": 43,
   "metadata": {
    "scrolled": true
   },
   "outputs": [
    {
     "data": {
      "text/plain": [
       "78.88888888888889"
      ]
     },
     "execution_count": 43,
     "metadata": {},
     "output_type": "execute_result"
    }
   ],
   "source": [
    "accuracy = accuracy_score(y_train, y_pred)*100\n",
    "accuracy\n",
    "# def accuracy(y_train,y_pred,normalize=True):\n",
    "#     accuracy=[]\n",
    "#     for i in range(len(y_pred)):\n",
    "#         if y_pred[i]==y_train[i]:\n",
    "#             accuracy.append(1)\n",
    "#         else:\n",
    "#             accuracy.append(0)\n",
    "#     if normalize==True:\n",
    "#         return np.mean(accuracy)\n",
    "#     if normalize==False:\n",
    "#         return sum(accuracy)"
   ]
  },
  {
   "cell_type": "code",
   "execution_count": null,
   "metadata": {},
   "outputs": [],
   "source": [
    "# # Splitting into Train and Test sets into an 80/20 split.\n",
    "# X_train2, X_test2, y_train2, y_test2 = train_test_split(X, y, random_state=78, train_size=0.80)\n",
    "\n",
    "# # Creating a StandardScaler instance.\n",
    "# scaler = StandardScaler()\n",
    "# # Fitting the Standard Scaler with the training data.\n",
    "# X_scaler = scaler.fit(X_train)\n",
    "\n",
    "# # Scaling the data.\n",
    "# X_train_scaled = X_scaler.transform(X_train)\n",
    "# X_test_scaled = X_scaler.transform(X_test)"
   ]
  },
  {
   "cell_type": "code",
   "execution_count": null,
   "metadata": {},
   "outputs": [],
   "source": [
    "# from sklearn.model_selection import train_test_split\n",
    "# X_train, X_test, y_train, y_test = train_test_split(X,\n",
    "#    y,  random_state=1, stratify=y)\n",
    "# X_train.shape\n",
    "\n",
    "# from sklearn.svm import SVC\n",
    "# model = SVC(kernel='linear')\n",
    "\n",
    "# model.fit(X_train, y_train)\n",
    "\n",
    "# y_pred = model.predict(X_test)\n",
    "# results = pd.DataFrame({\n",
    "#    \"Prediction\": y_pred,\n",
    "#    \"Actual\": y_test\n",
    "# }).reset_index(drop=True)\n",
    "# results.head()\n",
    "\n",
    "# from sklearn.metrics import accuracy_score\n",
    "# accuracy_score(y_test, y_pred)\n",
    "\n",
    "# # Confusion Matrix\n",
    "\n",
    "# from sklearn.metrics import confusion_matrix\n",
    "# confusion_matrix(y_test, y_pred)\n",
    "\n",
    "# from sklearn.metrics import classification_report\n",
    "# print(classification_report(y_test, y_pred))"
   ]
  },
  {
   "cell_type": "code",
   "execution_count": null,
   "metadata": {},
   "outputs": [],
   "source": []
  }
 ],
 "metadata": {
  "kernelspec": {
   "display_name": "mlenv",
   "language": "python",
   "name": "mlenv"
  },
  "language_info": {
   "codemirror_mode": {
    "name": "ipython",
    "version": 3
   },
   "file_extension": ".py",
   "mimetype": "text/x-python",
   "name": "python",
   "nbconvert_exporter": "python",
   "pygments_lexer": "ipython3",
   "version": "3.8.5"
  }
 },
 "nbformat": 4,
 "nbformat_minor": 4
}
