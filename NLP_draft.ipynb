{
 "cells": [
  {
   "cell_type": "code",
   "execution_count": 87,
   "metadata": {},
   "outputs": [],
   "source": [
    "import pandas as pd\n",
    "import nltk\n",
    "from nltk import word_tokenize\n",
    "from nltk.corpus import stopwords"
   ]
  },
  {
   "cell_type": "code",
   "execution_count": 88,
   "metadata": {},
   "outputs": [
    {
     "data": {
      "text/html": [
       "<div>\n",
       "<style scoped>\n",
       "    .dataframe tbody tr th:only-of-type {\n",
       "        vertical-align: middle;\n",
       "    }\n",
       "\n",
       "    .dataframe tbody tr th {\n",
       "        vertical-align: top;\n",
       "    }\n",
       "\n",
       "    .dataframe thead th {\n",
       "        text-align: right;\n",
       "    }\n",
       "</style>\n",
       "<table border=\"1\" class=\"dataframe\">\n",
       "  <thead>\n",
       "    <tr style=\"text-align: right;\">\n",
       "      <th></th>\n",
       "      <th>title</th>\n",
       "      <th>text</th>\n",
       "      <th>subject</th>\n",
       "      <th>label</th>\n",
       "    </tr>\n",
       "  </thead>\n",
       "  <tbody>\n",
       "    <tr>\n",
       "      <th>0</th>\n",
       "      <td>Donald Trump Sends Out Embarrassing New Year’...</td>\n",
       "      <td>Donald Trump just couldn t wish all Americans ...</td>\n",
       "      <td>Politics</td>\n",
       "      <td>1</td>\n",
       "    </tr>\n",
       "    <tr>\n",
       "      <th>1</th>\n",
       "      <td>Drunk Bragging Trump Staffer Started Russian ...</td>\n",
       "      <td>House Intelligence Committee Chairman Devin Nu...</td>\n",
       "      <td>Politics</td>\n",
       "      <td>1</td>\n",
       "    </tr>\n",
       "    <tr>\n",
       "      <th>2</th>\n",
       "      <td>Sheriff David Clarke Becomes An Internet Joke...</td>\n",
       "      <td>On Friday, it was revealed that former Milwauk...</td>\n",
       "      <td>Politics</td>\n",
       "      <td>1</td>\n",
       "    </tr>\n",
       "    <tr>\n",
       "      <th>3</th>\n",
       "      <td>Trump Is So Obsessed He Even Has Obama’s Name...</td>\n",
       "      <td>On Christmas day, Donald Trump announced that ...</td>\n",
       "      <td>Politics</td>\n",
       "      <td>1</td>\n",
       "    </tr>\n",
       "    <tr>\n",
       "      <th>4</th>\n",
       "      <td>Pope Francis Just Called Out Donald Trump Dur...</td>\n",
       "      <td>Pope Francis used his annual Christmas Day mes...</td>\n",
       "      <td>Politics</td>\n",
       "      <td>1</td>\n",
       "    </tr>\n",
       "  </tbody>\n",
       "</table>\n",
       "</div>"
      ],
      "text/plain": [
       "                                               title  \\\n",
       "0   Donald Trump Sends Out Embarrassing New Year’...   \n",
       "1   Drunk Bragging Trump Staffer Started Russian ...   \n",
       "2   Sheriff David Clarke Becomes An Internet Joke...   \n",
       "3   Trump Is So Obsessed He Even Has Obama’s Name...   \n",
       "4   Pope Francis Just Called Out Donald Trump Dur...   \n",
       "\n",
       "                                                text   subject  label  \n",
       "0  Donald Trump just couldn t wish all Americans ...  Politics      1  \n",
       "1  House Intelligence Committee Chairman Devin Nu...  Politics      1  \n",
       "2  On Friday, it was revealed that former Milwauk...  Politics      1  \n",
       "3  On Christmas day, Donald Trump announced that ...  Politics      1  \n",
       "4  Pope Francis used his annual Christmas Day mes...  Politics      1  "
      ]
     },
     "execution_count": 88,
     "metadata": {},
     "output_type": "execute_result"
    }
   ],
   "source": [
    "# Read CSV\n",
    "df = pd.read_csv(\"articles.csv\")\n",
    "df.head()\n",
    "\n",
    "# output = nltk.pos_tag(text)\n",
    "# print(output)"
   ]
  },
  {
   "cell_type": "code",
   "execution_count": 89,
   "metadata": {},
   "outputs": [],
   "source": [
    "stop = stopwords.words('english') "
   ]
  },
  {
   "cell_type": "code",
   "execution_count": 90,
   "metadata": {},
   "outputs": [],
   "source": [
    "# lowercase title\n",
    "###title_token = word_tokenize(data['title'])\n",
    "df['title'] = df['title'].apply(lambda x: x.lower())\n",
    "\n",
    "#data['title'] = data['title'].apply(lambda x: ''.join (word for word in x.split() if word not in (stop)))"
   ]
  },
  {
   "cell_type": "code",
   "execution_count": 91,
   "metadata": {},
   "outputs": [
    {
     "data": {
      "text/plain": [
       "0    [donald, trump, sends, out, embarrassing, new,...\n",
       "1    [drunk, bragging, trump, staffer, started, rus...\n",
       "2    [sheriff, david, clarke, becomes, an, internet...\n",
       "3    [trump, is, so, obsessed, he, even, has, obama...\n",
       "4    [pope, francis, just, called, out, donald, tru...\n",
       "Name: title_tokenized, dtype: object"
      ]
     },
     "execution_count": 91,
     "metadata": {},
     "output_type": "execute_result"
    }
   ],
   "source": [
    "df['title_tokenized'] = df['title'].apply(word_tokenize)\n",
    "df['title_tokenized'].head()"
   ]
  },
  {
   "cell_type": "code",
   "execution_count": 92,
   "metadata": {},
   "outputs": [
    {
     "data": {
      "text/plain": [
       "0    [donald, trump, sends, embarrassing, new, year...\n",
       "1    [drunk, bragging, trump, staffer, started, rus...\n",
       "2    [sheriff, david, clarke, becomes, internet, jo...\n",
       "3    [trump, obsessed, even, obama, ’, name, coded,...\n",
       "4    [pope, francis, called, donald, trump, christm...\n",
       "Name: title_stopremoved, dtype: object"
      ]
     },
     "execution_count": 92,
     "metadata": {},
     "output_type": "execute_result"
    }
   ],
   "source": [
    "df['title_stopremoved'] = df['title_tokenized'].apply(lambda x: [item for item in x if item not in stop])\n",
    "df['title_stopremoved'].head()"
   ]
  },
  {
   "cell_type": "code",
   "execution_count": 126,
   "metadata": {},
   "outputs": [],
   "source": [
    "title_wordcount = df['title_stopremoved'].apply(len)"
   ]
  },
  {
   "cell_type": "code",
   "execution_count": 116,
   "metadata": {},
   "outputs": [
    {
     "data": {
      "text/plain": [
       "<AxesSubplot:>"
      ]
     },
     "execution_count": 116,
     "metadata": {},
     "output_type": "execute_result"
    },
    {
     "data": {
      "image/png": "[encoded data removed]",
      "text/plain": [
       "<Figure size 432x288 with 1 Axes>"
      ]
     },
     "metadata": {
      "needs_background": "light"
     },
     "output_type": "display_data"
    }
   ],
   "source": [
    "pd.Series(title_wordcount).hist(bins = 30,color='blue')"
   ]
  },
  {
   "cell_type": "code",
   "execution_count": 133,
   "metadata": {},
   "outputs": [
    {
     "data": {
      "text/plain": [
       "<AxesSubplot:>"
      ]
     },
     "execution_count": 133,
     "metadata": {},
     "output_type": "execute_result"
    },
    {
     "data": {
      "image/png": "[encoded data removed]",
      "text/plain": [
       "<Figure size 432x288 with 1 Axes>"
      ]
     },
     "metadata": {
      "needs_background": "light"
     },
     "output_type": "display_data"
    }
   ],
   "source": [
    "# Fake news titles\n",
    "\n",
    "df2 = df.loc[df['label']==1]\n",
    "fake_title_wordcount = df2['title_stopremoved'].apply(len)\n",
    "pd.Series(fake_title_wordcount).hist(bins = 30,color='blue')"
   ]
  },
  {
   "cell_type": "code",
   "execution_count": 134,
   "metadata": {},
   "outputs": [
    {
     "data": {
      "text/plain": [
       "<AxesSubplot:>"
      ]
     },
     "execution_count": 134,
     "metadata": {},
     "output_type": "execute_result"
    },
    {
     "data": {
      "image/png": "[encoded data removed]",
      "text/plain": [
       "<Figure size 432x288 with 1 Axes>"
      ]
     },
     "metadata": {
      "needs_background": "light"
     },
     "output_type": "display_data"
    }
   ],
   "source": [
    "# True news titles\n",
    "\n",
    "df3 = df.loc[df['label']==0]\n",
    "true_title_wordcount = df3['title_stopremoved'].apply(len)\n",
    "pd.Series(true_title_wordcount).hist(bins = 30,color='blue')"
   ]
  },
  {
   "cell_type": "code",
   "execution_count": 99,
   "metadata": {},
   "outputs": [],
   "source": [
    "#title_tag = df['title_stopremoved'].to_numpy()\n",
    "# from sklearn.feature_extraction.text import TfidfVectorizer \n",
    " \n",
    "# # settings that you use for count vectorizer will go here \n",
    "# tfidf_vectorizer=TfidfVectorizer(use_idf=True) \n",
    " \n",
    "# # just send in all your docs here \n",
    "# tfidf_vectorizer_vectors=tfidf_vectorizer.fit_transform(title_tag)\n",
    "# nltk.pos_tag(title_tag)"
   ]
  },
  {
   "cell_type": "code",
   "execution_count": null,
   "metadata": {},
   "outputs": [],
   "source": [
    "# from sklearn.feature_extraction.text import CountVectorizer,TfidfTransformer\n",
    "# cv=CountVectorizer(max_features=1000)\n",
    "# vect=cv.fit_transform(df['title_stopremoved'].toarray()\n",
    "# vect"
   ]
  },
  {
   "cell_type": "code",
   "execution_count": 101,
   "metadata": {},
   "outputs": [
    {
     "data": {
      "text/plain": [
       "0    [donald, trump, just, couldn, t, wish, all, am...\n",
       "1    [house, intelligence, committee, chairman, dev...\n",
       "2    [on, friday, ,, it, was, revealed, that, forme...\n",
       "3    [on, christmas, day, ,, donald, trump, announc...\n",
       "4    [pope, francis, used, his, annual, christmas, ...\n",
       "Name: text_tokenized, dtype: object"
      ]
     },
     "execution_count": 101,
     "metadata": {},
     "output_type": "execute_result"
    }
   ],
   "source": [
    "# Totenizing text\n",
    "###title_token = word_tokenize(data['title'])\n",
    "df['text_tokenized'] = df['text'].apply(word_tokenize)\n",
    "df['text_tokenized'].head()"
   ]
  },
  {
   "cell_type": "code",
   "execution_count": 104,
   "metadata": {},
   "outputs": [
    {
     "data": {
      "text/plain": [
       "0    [donald, trump, wish, americans, happy, new, y...\n",
       "1    [house, intelligence, committee, chairman, dev...\n",
       "2    [friday, ,, revealed, former, milwaukee, sheri...\n",
       "3    [christmas, day, ,, donald, trump, announced, ...\n",
       "4    [pope, francis, used, annual, christmas, day, ...\n",
       "Name: text_stopremoved, dtype: object"
      ]
     },
     "execution_count": 104,
     "metadata": {},
     "output_type": "execute_result"
    }
   ],
   "source": [
    "df['text_stopremoved'] = df['text_tokenized'].apply(lambda x: [item for item in x if item not in stop])\n",
    "df['text_stopremoved'].head()"
   ]
  },
  {
   "cell_type": "code",
   "execution_count": 110,
   "metadata": {},
   "outputs": [],
   "source": [
    "text_wordcount = df['text_stopremoved'].apply(len)"
   ]
  },
  {
   "cell_type": "code",
   "execution_count": 117,
   "metadata": {},
   "outputs": [
    {
     "data": {
      "text/plain": [
       "<AxesSubplot:>"
      ]
     },
     "execution_count": 117,
     "metadata": {},
     "output_type": "execute_result"
    },
    {
     "data": {
      "image/png": "[encoded data removed]",
      "text/plain": [
       "<Figure size 432x288 with 1 Axes>"
      ]
     },
     "metadata": {
      "needs_background": "light"
     },
     "output_type": "display_data"
    }
   ],
   "source": [
    "pd.Series(text_wordcount).hist(bins = 1000,color='blue')"
   ]
  },
  {
   "cell_type": "code",
   "execution_count": 135,
   "metadata": {},
   "outputs": [
    {
     "data": {
      "text/plain": [
       "<AxesSubplot:>"
      ]
     },
     "execution_count": 135,
     "metadata": {},
     "output_type": "execute_result"
    },
    {
     "data": {
      "image/png": "[encoded data removed]",
      "text/plain": [
       "<Figure size 432x288 with 1 Axes>"
      ]
     },
     "metadata": {
      "needs_background": "light"
     },
     "output_type": "display_data"
    }
   ],
   "source": [
    "# Fake news text\n",
    "\n",
    "df4 = df.loc[df['label']==1]\n",
    "fake_text_wordcount = df4['text_stopremoved'].apply(len)\n",
    "pd.Series(fake_text_wordcount).hist(bins = 1000,color='blue')"
   ]
  },
  {
   "cell_type": "code",
   "execution_count": 136,
   "metadata": {},
   "outputs": [
    {
     "data": {
      "text/plain": [
       "<AxesSubplot:>"
      ]
     },
     "execution_count": 136,
     "metadata": {},
     "output_type": "execute_result"
    },
    {
     "data": {
      "image/png": "[encoded data removed]",
      "text/plain": [
       "<Figure size 432x288 with 1 Axes>"
      ]
     },
     "metadata": {
      "needs_background": "light"
     },
     "output_type": "display_data"
    }
   ],
   "source": [
    "# True news text\n",
    "\n",
    "df5 = df.loc[df['label']==1]\n",
    "true_text_wordcount = df5['text_stopremoved'].apply(len)\n",
    "pd.Series(true_text_wordcount).hist(bins = 1000,color='blue')"
   ]
  },
  {
   "cell_type": "code",
   "execution_count": null,
   "metadata": {},
   "outputs": [],
   "source": []
  }
 ],
 "metadata": {
  "kernelspec": {
   "display_name": "mlenv",
   "language": "python",
   "name": "mlenv"
  },
  "language_info": {
   "codemirror_mode": {
    "name": "ipython",
    "version": 3
   },
   "file_extension": ".py",
   "mimetype": "text/x-python",
   "name": "python",
   "nbconvert_exporter": "python",
   "pygments_lexer": "ipython3",
   "version": "3.8.5"
  }
 },
 "nbformat": 4,
 "nbformat_minor": 4
}
